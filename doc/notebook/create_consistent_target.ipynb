{
 "cells": [
  {
   "cell_type": "code",
   "id": "initial_id",
   "metadata": {
    "collapsed": true,
    "ExecuteTime": {
     "end_time": "2025-01-16T17:17:54.779185Z",
     "start_time": "2025-01-16T17:17:54.775642Z"
    }
   },
   "source": "# Objective : Create a consistent target for training RNAseg",
   "outputs": [],
   "execution_count": 1
  },
  {
   "metadata": {},
   "cell_type": "markdown",
   "source": [
    "# Objective : Create a consistent target for training RNAseg\n",
    "* Input : A spatial data with a potentially errounous nuclues and cell segmentation\n",
    "* Output : A currated cell segmentation and nuclei segmentation that can be used to train RNAseg"
   ],
   "id": "60c37a5f522d60a0"
  },
  {
   "metadata": {
    "ExecuteTime": {
     "end_time": "2025-01-15T17:13:48.153976Z",
     "start_time": "2025-01-15T17:13:48.148519Z"
    }
   },
   "cell_type": "code",
   "source": [
    "# PATH\n",
    "path_zarr = '/media/tom/Transcend/open_merfish/test_spatial_data/from_cluster/test_mouse_ileum.zarr'"
   ],
   "id": "ef8f4753c2a6be01",
   "outputs": [],
   "execution_count": 1
  },
  {
   "metadata": {
    "ExecuteTime": {
     "end_time": "2025-01-15T17:13:51.476748Z",
     "start_time": "2025-01-15T17:13:48.413377Z"
    }
   },
   "cell_type": "code",
   "source": [
    "# IMPORT \n",
    "import spatialdata as sd\n",
    "\n",
    "# IMPORT RNAseg\n",
    "from dataset_zarr.consistency import compute_consistent_cell\n"
   ],
   "id": "89352e241eaa4e7a",
   "outputs": [
    {
     "name": "stderr",
     "output_type": "stream",
     "text": [
      "/home/tom/anaconda3/envs/RNAseg/lib/python3.10/site-packages/dask/dataframe/__init__.py:31: FutureWarning: The legacy Dask DataFrame implementation is deprecated and will be removed in a future version. Set the configuration option `dataframe.query-planning` to `True` or None to enable the new Dask Dataframe implementation and silence this warning.\n",
      "  warnings.warn(\n",
      "/home/tom/anaconda3/envs/RNAseg/lib/python3.10/site-packages/tqdm/auto.py:21: TqdmWarning: IProgress not found. Please update jupyter and ipywidgets. See https://ipywidgets.readthedocs.io/en/stable/user_install.html\n",
      "  from .autonotebook import tqdm as notebook_tqdm\n",
      "/home/tom/anaconda3/envs/RNAseg/lib/python3.10/site-packages/anndata/utils.py:429: FutureWarning: Importing read_text from `anndata` is deprecated. Import anndata.io.read_text instead.\n",
      "  warnings.warn(msg, FutureWarning)\n"
     ]
    }
   ],
   "execution_count": 2
  },
  {
   "metadata": {},
   "cell_type": "markdown",
   "source": "### Step 1 : Load the data",
   "id": "5b596a1d130b8c53"
  },
  {
   "metadata": {
    "ExecuteTime": {
     "end_time": "2025-01-15T17:13:51.589451Z",
     "start_time": "2025-01-15T17:13:51.478124Z"
    }
   },
   "cell_type": "code",
   "source": [
    "sdata = sd.read_zarr(path_zarr)\n",
    "sdata"
   ],
   "id": "d04342146e336094",
   "outputs": [
    {
     "data": {
      "text/plain": [
       "SpatialData object, with associated Zarr store: /media/tom/Transcend/open_merfish/test_spatial_data/from_cluster/test_mouse_ileum.zarr\n",
       "├── Images\n",
       "│     └── 'staining_z3': DataTree[cyx] (5, 9000, 9000), (5, 4500, 4500), (5, 2250, 2250), (5, 1125, 1125), (5, 562, 562)\n",
       "├── Points\n",
       "│     └── 'transcripts': DataFrame with shape: (<Delayed>, 9) (2D points)\n",
       "└── Shapes\n",
       "      ├── 'Cellbound1': GeoDataFrame shape: (3258, 1) (2D shapes)\n",
       "      └── 'DAPI': GeoDataFrame shape: (2377, 1) (2D shapes)\n",
       "with coordinate systems:\n",
       "    ▸ 'microns', with elements:\n",
       "        staining_z3 (Images), transcripts (Points), Cellbound1 (Shapes), DAPI (Shapes)"
      ]
     },
     "execution_count": 3,
     "metadata": {},
     "output_type": "execute_result"
    }
   ],
   "execution_count": 3
  },
  {
   "metadata": {},
   "cell_type": "markdown",
   "source": "### Step 2 : Create a consistent target",
   "id": "43a307b0b9b8c21a"
  },
  {
   "metadata": {
    "ExecuteTime": {
     "end_time": "2025-01-15T17:13:56.187458Z",
     "start_time": "2025-01-15T17:13:55.314536Z"
    }
   },
   "cell_type": "code",
   "source": [
    "\n",
    "# to set from the sdata content\n",
    "key_shape_cell_seg = \"Cellbound1\"\n",
    "key_shape_nuclei_seg=\"DAPI\"\n",
    "# to name for future shape that will be created in the sdata\n",
    "key_cell_consistent = \"Cellbound1_consistent\"\n",
    "key_nuclei_consistent = \"DAPI_consistent\"\n",
    "\n",
    "\n",
    "# merge all cell and shape for the user to see the result\n",
    "\n",
    "sdata, _ = compute_consistent_cell(\n",
    "    sdata=sdata,\n",
    "    key_shape_nuclei_seg=key_shape_nuclei_seg,\n",
    "    key_shape_cell_seg=key_shape_cell_seg,\n",
    "    key_cell_consistent=key_cell_consistent,\n",
    "    key_nuclei_consistent=key_nuclei_consistent,\n",
    "    image_key=\"staining_z3\",\n",
    "    threshold_intersection_contain=0.95,\n",
    "    threshold_intersection_intersect= 1,\n",
    "    accepted_nb_nuclei_per_cell=None,\n",
    "    max_cell_nb_intersecting_nuclei=1,\n",
    ")"
   ],
   "id": "5adc53b4c186d97e",
   "outputs": [
    {
     "name": "stderr",
     "output_type": "stream",
     "text": [
      "Resolving conflicts: 7688it [00:00, 11590.99it/s]\n"
     ]
    }
   ],
   "execution_count": 4
  },
  {
   "metadata": {},
   "cell_type": "markdown",
   "source": "",
   "id": "b037771f7d523558"
  },
  {
   "metadata": {},
   "cell_type": "markdown",
   "source": "",
   "id": "ab1607b3bfafc4c9"
  },
  {
   "metadata": {
    "ExecuteTime": {
     "end_time": "2025-01-15T17:14:01.374038Z",
     "start_time": "2025-01-15T17:14:01.333115Z"
    }
   },
   "cell_type": "code",
   "source": "sdata ",
   "id": "fb26dfce99f8a93f",
   "outputs": [
    {
     "data": {
      "text/plain": [
       "SpatialData object, with associated Zarr store: /media/tom/Transcend/open_merfish/test_spatial_data/from_cluster/test_mouse_ileum.zarr\n",
       "├── Images\n",
       "│     └── 'staining_z3': DataTree[cyx] (5, 9000, 9000), (5, 4500, 4500), (5, 2250, 2250), (5, 1125, 1125), (5, 562, 562)\n",
       "├── Points\n",
       "│     └── 'transcripts': DataFrame with shape: (<Delayed>, 9) (2D points)\n",
       "└── Shapes\n",
       "      ├── 'Cellbound1': GeoDataFrame shape: (3258, 1) (2D shapes)\n",
       "      ├── 'Cellbound1_consistent_with_nuclei': GeoDataFrame shape: (1007, 1) (2D shapes)\n",
       "      ├── 'Cellbound1_consistent_without_nuclei': GeoDataFrame shape: (2239, 1) (2D shapes)\n",
       "      ├── 'DAPI': GeoDataFrame shape: (2377, 1) (2D shapes)\n",
       "      ├── 'DAPI_consistent_in_cell': GeoDataFrame shape: (1007, 1) (2D shapes)\n",
       "      └── 'DAPI_consistent_not_in_cell': GeoDataFrame shape: (1370, 1) (2D shapes)\n",
       "with coordinate systems:\n",
       "    ▸ 'microns', with elements:\n",
       "        staining_z3 (Images), transcripts (Points), Cellbound1 (Shapes), Cellbound1_consistent_with_nuclei (Shapes), Cellbound1_consistent_without_nuclei (Shapes), DAPI (Shapes), DAPI_consistent_in_cell (Shapes), DAPI_consistent_not_in_cell (Shapes)"
      ]
     },
     "execution_count": 5,
     "metadata": {},
     "output_type": "execute_result"
    }
   ],
   "execution_count": 5
  },
  {
   "metadata": {
    "ExecuteTime": {
     "end_time": "2025-01-15T17:14:03.711535Z",
     "start_time": "2025-01-15T17:14:03.707952Z"
    }
   },
   "cell_type": "code",
   "source": "\"Cellbound1_consistent_with_nuclei\" == \"Cellbound1_consistent_with_nuclei\"",
   "id": "c835756734fbaa33",
   "outputs": [
    {
     "data": {
      "text/plain": [
       "True"
      ]
     },
     "execution_count": 6,
     "metadata": {},
     "output_type": "execute_result"
    }
   ],
   "execution_count": 6
  },
  {
   "metadata": {},
   "cell_type": "code",
   "outputs": [],
   "execution_count": null,
   "source": "",
   "id": "b09c93968f1e50ef"
  }
 ],
 "metadata": {
  "kernelspec": {
   "display_name": "Python 3",
   "language": "python",
   "name": "python3"
  },
  "language_info": {
   "codemirror_mode": {
    "name": "ipython",
    "version": 2
   },
   "file_extension": ".py",
   "mimetype": "text/x-python",
   "name": "python",
   "nbconvert_exporter": "python",
   "pygments_lexer": "ipython2",
   "version": "2.7.6"
  }
 },
 "nbformat": 4,
 "nbformat_minor": 5
}
