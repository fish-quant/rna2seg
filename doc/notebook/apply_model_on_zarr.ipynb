{
 "cells": [
  {
   "cell_type": "markdown",
   "id": "73346df0-da28-4043-8d57-e9e67808cf42",
   "metadata": {
    "collapsed": true,
    "jupyter": {
     "outputs_hidden": true
    }
   },
   "source": [
    "# Apply RNAseg on spatial data "
   ]
  },
  {
   "cell_type": "code",
   "execution_count": 15,
   "id": "439586ca-0a62-4c9c-8b69-b7329e08158b",
   "metadata": {
    "ExecuteTime": {
     "end_time": "2025-02-07T11:11:06.523926Z",
     "start_time": "2025-02-07T11:11:06.520075Z"
    }
   },
   "outputs": [],
   "source": [
    "import spatialdata as sd\n",
    "from pathlib import Path\n",
    "from rna_seg.dataset_zarr.patches import create_patch_rnaseg\n",
    "from rna_seg.dataset_zarr.RNAsegDataset import RNAsegDataset\n",
    "from rna_seg.models import RNASeg\n",
    "import albumentations as A\n",
    "import cv2"
   ]
  },
  {
   "cell_type": "markdown",
   "id": "5f79c929-19f2-4c87-93a6-c9fcd9d8723f",
   "metadata": {},
   "source": [
    "# 1) Create datasetfrom a spatialdata"
   ]
  },
  {
   "cell_type": "code",
   "execution_count": 16,
   "id": "aa046b93-6790-46b3-9809-4c26b1555c32",
   "metadata": {},
   "outputs": [
    {
     "name": "stderr",
     "output_type": "stream",
     "text": [
      "/home/tom/anaconda3/envs/RNAseg/lib/python3.10/site-packages/spatialdata/_core/_elements.py:96: UserWarning: Key `sopa_patches_rna_seg_1200_150` already exists. Overwriting it in-memory.\n",
      "  self._check_key(key, self.keys(), self._shared_keys)\n",
      "\u001b[36;20m[INFO] (sopa.patches.patches)\u001b[0m 81 patches were saved in sdata['sopa_patches_rna_seg_1200_150']\n"
     ]
    },
    {
     "name": "stdout",
     "output_type": "stream",
     "text": [
      "[########################################] | 100% Completed | 21.66 ss\n",
      "SpatialData object, with associated Zarr store: /media/tom/Transcend/open_merfish/test_spatial_data/from_cluster/test_mouse_ileum.zarr\n",
      "├── Images\n",
      "│     └── 'staining_z3': DataTree[cyx] (5, 9000, 9000), (5, 4500, 4500), (5, 2250, 2250), (5, 1125, 1125), (5, 562, 562)\n",
      "├── Points\n",
      "│     └── 'transcripts': DataFrame with shape: (<Delayed>, 9) (2D points)\n",
      "└── Shapes\n",
      "      ├── 'Cellbound1': GeoDataFrame shape: (3258, 1) (2D shapes)\n",
      "      ├── 'Cellbound1_consistent_with_nuclei': GeoDataFrame shape: (1007, 1) (2D shapes)\n",
      "      ├── 'Cellbound1_consistent_without_nuclei': GeoDataFrame shape: (2239, 1) (2D shapes)\n",
      "      ├── 'DAPI': GeoDataFrame shape: (2377, 1) (2D shapes)\n",
      "      ├── 'DAPI_consistent_in_cell': GeoDataFrame shape: (1007, 1) (2D shapes)\n",
      "      ├── 'DAPI_consistent_not_in_cell': GeoDataFrame shape: (1370, 1) (2D shapes)\n",
      "      ├── 'sopa_patches_rna_seg_1200_50': GeoDataFrame shape: (64, 3) (2D shapes)\n",
      "      └── 'sopa_patches_rna_seg_1200_150': GeoDataFrame shape: (81, 3) (2D shapes)\n",
      "with coordinate systems:\n",
      "    ▸ '_staining_z3_intrinsic', with elements:\n",
      "        staining_z3 (Images)\n",
      "    ▸ 'microns', with elements:\n",
      "        staining_z3 (Images), transcripts (Points), Cellbound1 (Shapes), Cellbound1_consistent_with_nuclei (Shapes), Cellbound1_consistent_without_nuclei (Shapes), DAPI (Shapes), DAPI_consistent_in_cell (Shapes), DAPI_consistent_not_in_cell (Shapes), sopa_patches_rna_seg_1200_50 (Shapes), sopa_patches_rna_seg_1200_150 (Shapes)\n"
     ]
    }
   ],
   "source": [
    "### load sdata and set path parameters \n",
    "merfish_zarr_path = \"/media/tom/Transcend/open_merfish/test_spatial_data/from_cluster/test_mouse_ileum.zarr\"\n",
    "sdata = sd.read_zarr(merfish_zarr_path)\n",
    "\n",
    "image_key = \"staining_z3\"\n",
    "points_key = \"transcripts\"\n",
    "\n",
    "patch_width = 1200\n",
    "patch_overlap = 150\n",
    "\n",
    "\n",
    "\n",
    "min_transcripts_per_patch = 0\n",
    "folder_patch_rna_seg = Path(merfish_zarr_path) / \".rna_seg\"\n",
    "\n",
    "### create patch in the sdata and precompute transcipt.csv for each patch with sopa\n",
    "create_patch_rnaseg(sdata,\n",
    "                    image_key=image_key,\n",
    "                    points_key=points_key,\n",
    "                    patch_width=patch_width,\n",
    "                    patch_overlap=patch_overlap,\n",
    "                    min_transcripts_per_patch=min_transcripts_per_patch,\n",
    "                    overwrite = True)\n",
    "print(sdata)"
   ]
  },
  {
   "cell_type": "code",
   "execution_count": 17,
   "id": "37cc6c7f-0417-40a0-b59f-653b5e67767c",
   "metadata": {},
   "outputs": [
    {
     "name": "stdout",
     "output_type": "stream",
     "text": [
      "default shape_patch_key set to sopa_patches_rna_seg_1200_150\n",
      "100%|██████████| 81/81 [00:02<00:00, 35.20it/s]\n",
      "Number of valid patches: 64\n"
     ]
    }
   ],
   "source": [
    "transform_resize  = A.Compose([\n",
    " A.Resize(width=512, height=512, interpolation=cv2.INTER_NEAREST),\n",
    "])\n",
    "\n",
    "\n",
    "dataset = RNAsegDataset(\n",
    "sdata=sdata,\n",
    "channels_dapi= [\"DAPI\"],\n",
    "channels_cellbound=[\"Cellbound1\"],\n",
    "patch_width = 1200,\n",
    "patch_overlap = 150,\n",
    "gene_column=\"gene\",\n",
    "transform_resize = transform_resize,\n",
    " )"
   ]
  },
  {
   "cell_type": "markdown",
   "id": "8a68f83c-52ba-4590-8c47-8d7020f48e76",
   "metadata": {},
   "source": [
    "# 2) run RNAseg"
   ]
  },
  {
   "cell_type": "code",
   "execution_count": 14,
   "id": "d24697dd-e46c-4b96-ac2e-303354a71199",
   "metadata": {},
   "outputs": [
    {
     "name": "stdout",
     "output_type": "stream",
     "text": [
      "initiaisation of CPnet\n",
      "Initiaisation of ChannelInvariantNet\n"
     ]
    }
   ],
   "source": [
    "\n",
    "pretrained_model = \"/media/tom/Transcend/open_merfish/test_spatial_data/from_cluster/small_merfish_for_test.zarr/model/best.pt\"\n",
    "device = \"cpu\"\n",
    "rnaseg = RNASeg(device,\n",
    "                net='unet',\n",
    "                flow_threshold = 0.9,\n",
    "                cellbound_flow_threshold = 0.4,\n",
    "                pretrained_model = None,\n",
    "                )"
   ]
  },
  {
   "cell_type": "markdown",
   "id": "66a76166-5ab7-42c4-95fc-f99e63e4ad31",
   "metadata": {},
   "source": [
    "# 3) Add new segmentation to the input spatial data"
   ]
  },
  {
   "cell_type": "code",
   "execution_count": 1,
   "id": "05ff48b2-1edc-4b2b-b61b-6a804024a14b",
   "metadata": {
    "ExecuteTime": {
     "end_time": "2025-02-07T11:02:13.948665Z",
     "start_time": "2025-02-07T11:02:13.772642Z"
    },
    "scrolled": true
   },
   "outputs": [
    {
     "ename": "NameError",
     "evalue": "name 'dataset' is not defined",
     "output_type": "error",
     "traceback": [
      "\u001b[0;31m---------------------------------------------------------------------------\u001b[0m",
      "\u001b[0;31mNameError\u001b[0m                                 Traceback (most recent call last)",
      "Cell \u001b[0;32mIn[1], line 3\u001b[0m\n\u001b[1;32m      1\u001b[0m \u001b[38;5;28;01mfrom\u001b[39;00m \u001b[38;5;21;01mtqdm\u001b[39;00m \u001b[38;5;28;01mimport\u001b[39;00m tqdm\n\u001b[0;32m----> 3\u001b[0m \u001b[38;5;28;01mfor\u001b[39;00m i \u001b[38;5;129;01min\u001b[39;00m tqdm(\u001b[38;5;28mlist\u001b[39m(\u001b[38;5;28mrange\u001b[39m(\u001b[38;5;28mlen\u001b[39m(\u001b[43mdataset\u001b[49m)))):\n\u001b[1;32m      4\u001b[0m     input_dict \u001b[38;5;241m=\u001b[39m dataset[i]\n\u001b[1;32m      5\u001b[0m     rnaseg\u001b[38;5;241m.\u001b[39mrun(input_dict\u001b[38;5;241m=\u001b[39minput_dict)\n",
      "\u001b[0;31mNameError\u001b[0m: name 'dataset' is not defined"
     ]
    }
   ],
   "source": [
    "from tqdm import tqdm\n",
    "\n",
    "for i in tqdm(list(range(len(dataset)))):\n",
    "    input_dict = dataset[i]\n",
    "    rnaseg.run(input_dict=input_dict)\n",
    "\n"
   ]
  },
  {
   "cell_type": "code",
   "execution_count": 30,
   "id": "c28ce042-93d5-4d2c-9415-04f91b678cc9",
   "metadata": {},
   "outputs": [
    {
     "data": {
      "text/plain": [
       "{'img_cellbound': tensor([[[0.2747, 0.3020, 0.3220,  ..., 0.3325, 0.3068, 0.3180],\n",
       "          [0.3097, 0.3104, 0.3687,  ..., 0.3021, 0.3033, 0.3033],\n",
       "          [0.3693, 0.3628, 0.3999,  ..., 0.3130, 0.3118, 0.3187],\n",
       "          ...,\n",
       "          [0.5089, 0.5189, 0.5173,  ..., 0.1041, 0.0901, 0.0854],\n",
       "          [0.5269, 0.5066, 0.4928,  ..., 0.0898, 0.0822, 0.0870],\n",
       "          [0.5466, 0.5504, 0.5039,  ..., 0.0865, 0.0892, 0.0929]]]),\n",
       " 'dapi': tensor([[[ 0.3373,  0.3294,  0.3038,  ...,  0.1389,  0.1610,  0.1832],\n",
       "          [ 0.3062,  0.2798,  0.2649,  ...,  0.1546,  0.1919,  0.2171],\n",
       "          [ 0.2690,  0.2605,  0.2524,  ...,  0.1821,  0.2148,  0.2450],\n",
       "          ...,\n",
       "          [ 0.1838,  0.1742,  0.1682,  ..., -0.0051, -0.0066, -0.0033],\n",
       "          [ 0.2102,  0.1960,  0.1944,  ..., -0.0060, -0.0096, -0.0100],\n",
       "          [ 0.2275,  0.2186,  0.2045,  ..., -0.0099, -0.0047, -0.0136]]]),\n",
       " 'rna_img': tensor([[[0.0000e+00, 0.0000e+00, 1.1416e-02,  ..., 0.0000e+00,\n",
       "           9.5534e-02, 1.1444e-02],\n",
       "          [1.0671e-01, 1.0669e-01, 1.0689e-01,  ..., 1.1388e-02,\n",
       "           8.0888e-01, 1.9083e-01],\n",
       "          [8.9329e-01, 9.0438e-01, 8.2065e-01,  ..., 9.5298e-02,\n",
       "           9.5770e-02, 8.0890e-01],\n",
       "          ...,\n",
       "          [9.5534e-02, 7.9752e-01, 9.5534e-02,  ..., 9.5299e-02,\n",
       "           1.1624e-02, 1.0669e-01],\n",
       "          [9.5562e-02, 8.0914e-01, 1.9110e-01,  ..., 7.9796e-01,\n",
       "           8.0888e-01, 1.9086e-01],\n",
       "          [9.5591e-02, 8.9329e-01, 9.7678e-01,  ..., 2.3571e-04,\n",
       "           9.5534e-02, 7.9775e-01]]]),\n",
       " 'mask_flow': tensor([[[0., 0., 0.,  ..., 0., 0., 0.],\n",
       "          [0., 0., 0.,  ..., 0., 0., 0.],\n",
       "          [0., 0., 0.,  ..., 0., 0., 0.],\n",
       "          ...,\n",
       "          [0., 0., 0.,  ..., 0., 0., 0.],\n",
       "          [0., 0., 0.,  ..., 0., 0., 0.],\n",
       "          [0., 0., 0.,  ..., 0., 0., 0.]],\n",
       " \n",
       "         [[0., 0., 0.,  ..., 0., 0., 0.],\n",
       "          [0., 0., 0.,  ..., 0., 0., 0.],\n",
       "          [0., 0., 0.,  ..., 0., 0., 0.],\n",
       "          ...,\n",
       "          [0., 0., 0.,  ..., 0., 0., 0.],\n",
       "          [0., 0., 0.,  ..., 0., 0., 0.],\n",
       "          [0., 0., 0.,  ..., 0., 0., 0.]],\n",
       " \n",
       "         [[0., 0., 0.,  ..., 0., 0., 0.],\n",
       "          [0., 0., 0.,  ..., 0., 0., 0.],\n",
       "          [0., 0., 0.,  ..., 0., 0., 0.],\n",
       "          ...,\n",
       "          [0., 0., 0.,  ..., 0., 0., 0.],\n",
       "          [0., 0., 0.,  ..., 0., 0., 0.],\n",
       "          [0., 0., 0.,  ..., 0., 0., 0.]]]),\n",
       " 'mask_gradient': tensor([[0., 0., 0.,  ..., 0., 0., 0.],\n",
       "         [0., 0., 0.,  ..., 0., 0., 0.],\n",
       "         [0., 0., 0.,  ..., 0., 0., 0.],\n",
       "         ...,\n",
       "         [0., 0., 0.,  ..., 0., 0., 0.],\n",
       "         [0., 0., 0.,  ..., 0., 0., 0.],\n",
       "         [0., 0., 0.,  ..., 0., 0., 0.]]),\n",
       " 'idx': 0,\n",
       " 'patch_index': 0}"
      ]
     },
     "execution_count": 30,
     "metadata": {},
     "output_type": "execute_result"
    }
   ],
   "source": [
    "input_dict"
   ]
  },
  {
   "cell_type": "code",
   "execution_count": 20,
   "id": "772d9cb0-5792-4095-ad42-6c6d8f5167f8",
   "metadata": {},
   "outputs": [
    {
     "data": {
      "text/plain": [
       "tensor([[[ 0.3373,  0.3294,  0.3038,  ...,  0.1389,  0.1610,  0.1832],\n",
       "         [ 0.3062,  0.2798,  0.2649,  ...,  0.1546,  0.1919,  0.2171],\n",
       "         [ 0.2690,  0.2605,  0.2524,  ...,  0.1821,  0.2148,  0.2450],\n",
       "         ...,\n",
       "         [ 0.1838,  0.1742,  0.1682,  ..., -0.0051, -0.0066, -0.0033],\n",
       "         [ 0.2102,  0.1960,  0.1944,  ..., -0.0060, -0.0096, -0.0100],\n",
       "         [ 0.2275,  0.2186,  0.2045,  ..., -0.0099, -0.0047, -0.0136]]])"
      ]
     },
     "execution_count": 20,
     "metadata": {},
     "output_type": "execute_result"
    }
   ],
   "source": [
    "input_dict.get('dapi', None)"
   ]
  },
  {
   "cell_type": "code",
   "execution_count": null,
   "id": "1c428acc-0f1b-47c0-8045-b42b9e4abb09",
   "metadata": {},
   "outputs": [],
   "source": []
  }
 ],
 "metadata": {
  "kernelspec": {
   "display_name": "Python 3 (ipykernel)",
   "language": "python",
   "name": "python3"
  },
  "language_info": {
   "codemirror_mode": {
    "name": "ipython",
    "version": 3
   },
   "file_extension": ".py",
   "mimetype": "text/x-python",
   "name": "python",
   "nbconvert_exporter": "python",
   "pygments_lexer": "ipython3",
   "version": "3.10.16"
  }
 },
 "nbformat": 4,
 "nbformat_minor": 5
}
