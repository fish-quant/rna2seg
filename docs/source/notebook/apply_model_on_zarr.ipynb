{
 "cells": [
  {
   "cell_type": "markdown",
   "id": "73346df0-da28-4043-8d57-e9e67808cf42",
   "metadata": {
    "collapsed": true,
    "jupyter": {
     "outputs_hidden": true
    }
   },
   "source": [
    "# Apply RNA2seg on spatial data "
   ]
  },
  {
   "cell_type": "markdown",
   "id": "24bd5be2",
   "metadata": {},
   "source": [
    "This notebook presents the workflow for applying RNA2Seg on Zarr-saved dataset. The process is structured into five main steps:\n",
    "\n",
    "- **1-Create training patches** - Extract patches of a reasonable size to process efficiently (saved in the Zarr file). \n",
    "- **2-Initialize an RNA2segDataset**\n",
    "- **3-Initialize a model RNA2Seg**\n",
    "- **4-Run segmentation**: RNA2Seg is applied to the dataset to generate cell segmentations, which are then saved in a Zarr format.\n",
    "- **5-Visualize segmentation**"
   ]
  },
  {
   "cell_type": "code",
   "execution_count": 1,
   "id": "439586ca-0a62-4c9c-8b69-b7329e08158b",
   "metadata": {
    "ExecuteTime": {
     "end_time": "2025-02-20T08:26:46.146792Z",
     "start_time": "2025-02-20T08:26:46.143763Z"
    }
   },
   "outputs": [],
   "source": [
    "import warnings\n",
    "warnings.filterwarnings(\"ignore\")\n",
    "\n",
    "import cv2\n",
    "import spatialdata as sd\n",
    "from pathlib import Path"
   ]
  },
  {
   "cell_type": "markdown",
   "id": "5f79c929-19f2-4c87-93a6-c9fcd9d8723f",
   "metadata": {},
   "source": [
    "## Step 1: Create patches from Zarr files\n",
    "\n",
    "In this step, the dataset (image + transcripts) is divided into patches of size `patch_width × patch_width` with an overlap of `patch_overlap`. This allows processing images of a manageable size while preserving spatial continuity.  \n",
    "\n",
    "**Process** \n",
    "- The dataset, stored in Zarr format, is loaded.  \n",
    "- Patches coordinates are saved as a `Shape` in the zarr: `sopa_patches_rna2seg_[patch_width]_[patch_overlap]`. \n",
    "- A `.rna2seg` directory is created to store the transcript data corresponding to each patch.  \n",
    "- The transcript information for each patch is saved in CSV format for further processing.  \n"
   ]
  },
  {
   "cell_type": "code",
   "execution_count": 2,
   "id": "aa046b93-6790-46b3-9809-4c26b1555c32",
   "metadata": {
    "scrolled": true
   },
   "outputs": [
    {
     "name": "stderr",
     "output_type": "stream",
     "text": [
      "\u001b[36;20m[INFO] (sopa.patches._patches)\u001b[0m Added 81 patche(s) to sdata['sopa_patches_rna2seg_1200_150']\n"
     ]
    },
    {
     "name": "stdout",
     "output_type": "stream",
     "text": [
      "[########################################] | 100% Completed | 18.11 ss\n",
      "[########################################] | 100% Completed | 12.09 s\n",
      "SpatialData object, with associated Zarr store: /media/tom/Transcend/open_merfish/test_spatial_data/from_cluster/test_mouse_ileum.zarr\n",
      "├── Images\n",
      "│     └── 'staining_z3': DataTree[cyx] (5, 9000, 9000), (5, 4500, 4500), (5, 2250, 2250), (5, 1125, 1125), (5, 562, 562)\n",
      "├── Points\n",
      "│     └── 'transcripts': DataFrame with shape: (<Delayed>, 9) (2D points)\n",
      "└── Shapes\n",
      "      ├── 'Cellbound1': GeoDataFrame shape: (3258, 1) (2D shapes)\n",
      "      ├── 'Cellbound1_consistent_with_nuclei': GeoDataFrame shape: (1007, 1) (2D shapes)\n",
      "      ├── 'Cellbound1_consistent_without_nuclei': GeoDataFrame shape: (2239, 1) (2D shapes)\n",
      "      ├── 'DAPI': GeoDataFrame shape: (2377, 1) (2D shapes)\n",
      "      ├── 'DAPI_consistent_in_cell': GeoDataFrame shape: (1007, 1) (2D shapes)\n",
      "      ├── 'DAPI_consistent_not_in_cell': GeoDataFrame shape: (1370, 1) (2D shapes)\n",
      "      ├── 'sopa_patches_rna2seg_1200_50': GeoDataFrame shape: (64, 3) (2D shapes)\n",
      "      └── 'sopa_patches_rna2seg_1200_150': GeoDataFrame shape: (81, 3) (2D shapes)\n",
      "with coordinate systems:\n",
      "    ▸ 'microns', with elements:\n",
      "        staining_z3 (Images), transcripts (Points), Cellbound1 (Shapes), Cellbound1_consistent_with_nuclei (Shapes), Cellbound1_consistent_without_nuclei (Shapes), DAPI (Shapes), DAPI_consistent_in_cell (Shapes), DAPI_consistent_not_in_cell (Shapes), sopa_patches_rna2seg_1200_50 (Shapes), sopa_patches_rna2seg_1200_150 (Shapes)\n"
     ]
    }
   ],
   "source": [
    "import warnings\n",
    "warnings.filterwarnings(\"ignore\")\n",
    "\n",
    "import cv2\n",
    "import spatialdata as sd\n",
    "from pathlib import Path\n",
    "\n",
    "from rna2seg.dataset_zarr.patches import create_patch_rna2seg\n",
    "\n",
    "\n",
    "# MODIFY WITH YOUR PATH\n",
    "merfish_zarr_path = \"/media/tom/Transcend/open_merfish/test_spatial_data/from_cluster/test_mouse_ileum.zarr\"\n",
    "\n",
    "### load sdata and set path parameters \n",
    "sdata = sd.read_zarr(merfish_zarr_path)\n",
    "image_key = \"staining_z3\"\n",
    "points_key = \"transcripts\"\n",
    "patch_width = 1200\n",
    "patch_overlap = 150\n",
    "min_transcripts_per_patch = 0\n",
    "folder_patch_rna2seg = Path(merfish_zarr_path) / f\".rna2seg_{patch_width}_{patch_overlap}\"\n",
    "\n",
    "### create patch in the sdata and precompute transcipt.csv for each patch with sopa\n",
    "create_patch_rna2seg(sdata=sdata,\n",
    "                    image_key=image_key,\n",
    "                    points_key=points_key,\n",
    "                    patch_width=patch_width,\n",
    "                    patch_overlap=patch_overlap,\n",
    "                    min_transcripts_per_patch=min_transcripts_per_patch,\n",
    "                    folder_patch_rna2seg = folder_patch_rna2seg,\n",
    "                    overwrite = True)\n",
    "print(sdata)"
   ]
  },
  {
   "cell_type": "markdown",
   "id": "e13ff8e1",
   "metadata": {},
   "source": [
    "## Step 2: Initialize a RNA2segDataset"
   ]
  },
  {
   "cell_type": "code",
   "execution_count": 3,
   "id": "37cc6c7f-0417-40a0-b59f-653b5e67767c",
   "metadata": {},
   "outputs": [
    {
     "name": "stdout",
     "output_type": "stream",
     "text": [
      "default shape_patch_key set to sopa_patches_rna2seg_1200_150\n",
      "100%|██████████| 81/81 [00:01<00:00, 80.64it/s]\n",
      "Number of valid patches: 64\n"
     ]
    }
   ],
   "source": [
    "import albumentations as A\n",
    "from rna2seg.dataset_zarr import RNA2segDataset\n",
    "\n",
    "transform_resize  = A.Compose([\n",
    "    A.Resize(width=512, height=512, interpolation=cv2.INTER_NEAREST),\n",
    "])\n",
    "\n",
    "dataset = RNA2segDataset(\n",
    "    sdata=sdata,\n",
    "    channels_dapi= [\"DAPI\"],\n",
    "    channels_cellbound=[\"Cellbound1\"],\n",
    "    patch_width = patch_width,\n",
    "    patch_overlap = patch_overlap,\n",
    "    gene_column=\"gene\",\n",
    "    transform_resize = transform_resize,\n",
    "    patch_dir=folder_patch_rna2seg\n",
    ")"
   ]
  },
  {
   "cell_type": "markdown",
   "id": "8a68f83c-52ba-4590-8c47-8d7020f48e76",
   "metadata": {},
   "source": [
    "## Step 3: Initialize a model RNA2seg\n",
    "\n",
    "By default, the trained RNA2seg model is downloaded from Hugging Face. You can also specify `pretrained_model` to use your own RNA2seg model."
   ]
  },
  {
   "cell_type": "code",
   "execution_count": 4,
   "id": "d24697dd-e46c-4b96-ac2e-303354a71199",
   "metadata": {},
   "outputs": [
    {
     "name": "stdout",
     "output_type": "stream",
     "text": [
      "No module named 'vmunet'\n",
      "VMUnet not loaded\n",
      "initiaisation of CPnet\n",
      "Initiaisation of ChannelInvariantNet\n",
      "Downloading pretrained model from huggingface\n"
     ]
    },
    {
     "data": {
      "application/vnd.jupyter.widget-view+json": {
       "model_id": "867a32b94efd4f0998000fef98ca0d6a",
       "version_major": 2,
       "version_minor": 0
      },
      "text/plain": [
       "Fetching 3 files:   0%|          | 0/3 [00:00<?, ?it/s]"
      ]
     },
     "metadata": {},
     "output_type": "display_data"
    },
    {
     "name": "stdout",
     "output_type": "stream",
     "text": [
      "Loading weights from /home/tom/.cache/huggingface/hub/models--aliceblondel--RNA2seg/snapshots/26f9afe181ea58f808ecd9c0732c327936020b18/rna2seg.pt\n"
     ]
    }
   ],
   "source": [
    "from rna2seg.models import RNA2seg\n",
    "\n",
    "\n",
    "device = \"cpu\"\n",
    "\n",
    "\n",
    "rna2seg = RNA2seg(\n",
    "    device,\n",
    "    net='unet',\n",
    "    flow_threshold = 0.9,\n",
    "    cellbound_flow_threshold = 0.4,\n",
    "    pretrained_model = \"default_pretrained\"\n",
    ")"
   ]
  },
  {
   "cell_type": "markdown",
   "id": "66a76166-5ab7-42c4-95fc-f99e63e4ad31",
   "metadata": {},
   "source": [
    "## Step 4: Run segmentation \n",
    "\n",
    "We will run the segmentation on the entire dataset and save the results as a shape in the Zarr file."
   ]
  },
  {
   "cell_type": "code",
   "execution_count": 5,
   "id": "5b564924-1dd2-4e40-a5d0-ce0457415999",
   "metadata": {
    "scrolled": true
   },
   "outputs": [
    {
     "name": "stderr",
     "output_type": "stream",
     "text": [
      "  2%|▏         | 1/64 [00:04<05:02,  4.80s/it]"
     ]
    },
    {
     "name": "stdout",
     "output_type": "stream",
     "text": [
      "47 cells detected\n"
     ]
    },
    {
     "name": "stderr",
     "output_type": "stream",
     "text": [
      "  3%|▎         | 2/64 [00:07<03:29,  3.38s/it]"
     ]
    },
    {
     "name": "stdout",
     "output_type": "stream",
     "text": [
      "45 cells detected\n"
     ]
    },
    {
     "name": "stderr",
     "output_type": "stream",
     "text": [
      "  5%|▍         | 3/64 [00:08<02:38,  2.60s/it]"
     ]
    },
    {
     "name": "stdout",
     "output_type": "stream",
     "text": [
      "28 cells detected\n"
     ]
    },
    {
     "name": "stderr",
     "output_type": "stream",
     "text": [
      "  6%|▋         | 4/64 [00:12<03:10,  3.18s/it]"
     ]
    },
    {
     "name": "stdout",
     "output_type": "stream",
     "text": [
      "90 cells detected\n"
     ]
    },
    {
     "name": "stderr",
     "output_type": "stream",
     "text": [
      "  8%|▊         | 5/64 [00:16<03:07,  3.17s/it]"
     ]
    },
    {
     "name": "stdout",
     "output_type": "stream",
     "text": [
      "92 cells detected\n"
     ]
    },
    {
     "name": "stderr",
     "output_type": "stream",
     "text": [
      "  9%|▉         | 6/64 [00:19<03:01,  3.12s/it]"
     ]
    },
    {
     "name": "stdout",
     "output_type": "stream",
     "text": [
      "82 cells detected\n"
     ]
    },
    {
     "name": "stderr",
     "output_type": "stream",
     "text": [
      " 11%|█         | 7/64 [00:21<02:36,  2.74s/it]"
     ]
    },
    {
     "name": "stdout",
     "output_type": "stream",
     "text": [
      "40 cells detected\n"
     ]
    },
    {
     "name": "stderr",
     "output_type": "stream",
     "text": [
      " 12%|█▎        | 8/64 [00:22<02:13,  2.38s/it]"
     ]
    },
    {
     "name": "stdout",
     "output_type": "stream",
     "text": [
      "26 cells detected\n"
     ]
    },
    {
     "name": "stderr",
     "output_type": "stream",
     "text": [
      " 14%|█▍        | 9/64 [00:25<02:20,  2.55s/it]"
     ]
    },
    {
     "name": "stdout",
     "output_type": "stream",
     "text": [
      "76 cells detected\n"
     ]
    },
    {
     "name": "stderr",
     "output_type": "stream",
     "text": [
      " 16%|█▌        | 10/64 [00:29<02:35,  2.88s/it]"
     ]
    },
    {
     "name": "stdout",
     "output_type": "stream",
     "text": [
      "78 cells detected\n"
     ]
    },
    {
     "name": "stderr",
     "output_type": "stream",
     "text": [
      " 17%|█▋        | 11/64 [00:31<02:30,  2.84s/it]"
     ]
    },
    {
     "name": "stdout",
     "output_type": "stream",
     "text": [
      "68 cells detected\n"
     ]
    },
    {
     "name": "stderr",
     "output_type": "stream",
     "text": [
      " 19%|█▉        | 12/64 [00:36<02:50,  3.28s/it]"
     ]
    },
    {
     "name": "stdout",
     "output_type": "stream",
     "text": [
      "105 cells detected\n"
     ]
    },
    {
     "name": "stderr",
     "output_type": "stream",
     "text": [
      " 20%|██        | 13/64 [00:39<02:48,  3.31s/it]"
     ]
    },
    {
     "name": "stdout",
     "output_type": "stream",
     "text": [
      "113 cells detected\n"
     ]
    },
    {
     "name": "stderr",
     "output_type": "stream",
     "text": [
      " 22%|██▏       | 14/64 [00:42<02:36,  3.13s/it]"
     ]
    },
    {
     "name": "stdout",
     "output_type": "stream",
     "text": [
      "85 cells detected\n"
     ]
    },
    {
     "name": "stderr",
     "output_type": "stream",
     "text": [
      " 23%|██▎       | 15/64 [00:44<02:21,  2.89s/it]"
     ]
    },
    {
     "name": "stdout",
     "output_type": "stream",
     "text": [
      "62 cells detected\n"
     ]
    },
    {
     "name": "stderr",
     "output_type": "stream",
     "text": [
      " 25%|██▌       | 16/64 [00:46<02:07,  2.67s/it]"
     ]
    },
    {
     "name": "stdout",
     "output_type": "stream",
     "text": [
      "46 cells detected\n"
     ]
    },
    {
     "name": "stderr",
     "output_type": "stream",
     "text": [
      " 27%|██▋       | 17/64 [00:50<02:15,  2.89s/it]"
     ]
    },
    {
     "name": "stdout",
     "output_type": "stream",
     "text": [
      "89 cells detected\n"
     ]
    },
    {
     "name": "stderr",
     "output_type": "stream",
     "text": [
      " 28%|██▊       | 18/64 [00:53<02:21,  3.08s/it]"
     ]
    },
    {
     "name": "stdout",
     "output_type": "stream",
     "text": [
      "72 cells detected\n"
     ]
    },
    {
     "name": "stderr",
     "output_type": "stream",
     "text": [
      " 30%|██▉       | 19/64 [00:56<02:07,  2.84s/it]"
     ]
    },
    {
     "name": "stdout",
     "output_type": "stream",
     "text": [
      "65 cells detected\n"
     ]
    },
    {
     "name": "stderr",
     "output_type": "stream",
     "text": [
      " 31%|███▏      | 20/64 [00:58<02:05,  2.86s/it]"
     ]
    },
    {
     "name": "stdout",
     "output_type": "stream",
     "text": [
      "71 cells detected\n"
     ]
    },
    {
     "name": "stderr",
     "output_type": "stream",
     "text": [
      " 33%|███▎      | 21/64 [01:00<01:50,  2.57s/it]"
     ]
    },
    {
     "name": "stdout",
     "output_type": "stream",
     "text": [
      "40 cells detected\n"
     ]
    },
    {
     "name": "stderr",
     "output_type": "stream",
     "text": [
      " 34%|███▍      | 22/64 [01:02<01:33,  2.22s/it]"
     ]
    },
    {
     "name": "stdout",
     "output_type": "stream",
     "text": [
      "25 cells detected\n"
     ]
    },
    {
     "name": "stderr",
     "output_type": "stream",
     "text": [
      " 36%|███▌      | 23/64 [01:03<01:24,  2.06s/it]"
     ]
    },
    {
     "name": "stdout",
     "output_type": "stream",
     "text": [
      "40 cells detected\n"
     ]
    },
    {
     "name": "stderr",
     "output_type": "stream",
     "text": [
      " 38%|███▊      | 24/64 [01:06<01:25,  2.14s/it]"
     ]
    },
    {
     "name": "stdout",
     "output_type": "stream",
     "text": [
      "56 cells detected\n"
     ]
    },
    {
     "name": "stderr",
     "output_type": "stream",
     "text": [
      " 39%|███▉      | 25/64 [01:10<01:52,  2.87s/it]"
     ]
    },
    {
     "name": "stdout",
     "output_type": "stream",
     "text": [
      "113 cells detected\n"
     ]
    },
    {
     "name": "stderr",
     "output_type": "stream",
     "text": [
      " 41%|████      | 26/64 [01:15<02:10,  3.44s/it]"
     ]
    },
    {
     "name": "stdout",
     "output_type": "stream",
     "text": [
      "102 cells detected\n"
     ]
    },
    {
     "name": "stderr",
     "output_type": "stream",
     "text": [
      " 42%|████▏     | 27/64 [01:18<02:03,  3.33s/it]"
     ]
    },
    {
     "name": "stdout",
     "output_type": "stream",
     "text": [
      "70 cells detected\n"
     ]
    },
    {
     "name": "stderr",
     "output_type": "stream",
     "text": [
      " 44%|████▍     | 28/64 [01:20<01:44,  2.91s/it]"
     ]
    },
    {
     "name": "stdout",
     "output_type": "stream",
     "text": [
      "37 cells detected\n"
     ]
    },
    {
     "name": "stderr",
     "output_type": "stream",
     "text": [
      " 45%|████▌     | 29/64 [01:22<01:29,  2.55s/it]"
     ]
    },
    {
     "name": "stdout",
     "output_type": "stream",
     "text": [
      "28 cells detected\n"
     ]
    },
    {
     "name": "stderr",
     "output_type": "stream",
     "text": [
      " 47%|████▋     | 30/64 [01:24<01:22,  2.44s/it]"
     ]
    },
    {
     "name": "stdout",
     "output_type": "stream",
     "text": [
      "41 cells detected\n"
     ]
    },
    {
     "name": "stderr",
     "output_type": "stream",
     "text": [
      " 48%|████▊     | 31/64 [01:26<01:16,  2.33s/it]"
     ]
    },
    {
     "name": "stdout",
     "output_type": "stream",
     "text": [
      "47 cells detected\n"
     ]
    },
    {
     "name": "stderr",
     "output_type": "stream",
     "text": [
      " 50%|█████     | 32/64 [01:31<01:40,  3.13s/it]"
     ]
    },
    {
     "name": "stdout",
     "output_type": "stream",
     "text": [
      "116 cells detected\n"
     ]
    },
    {
     "name": "stderr",
     "output_type": "stream",
     "text": [
      " 52%|█████▏    | 33/64 [01:34<01:38,  3.17s/it]"
     ]
    },
    {
     "name": "stdout",
     "output_type": "stream",
     "text": [
      "80 cells detected\n"
     ]
    },
    {
     "name": "stderr",
     "output_type": "stream",
     "text": [
      " 53%|█████▎    | 34/64 [01:37<01:27,  2.93s/it]"
     ]
    },
    {
     "name": "stdout",
     "output_type": "stream",
     "text": [
      "59 cells detected\n"
     ]
    },
    {
     "name": "stderr",
     "output_type": "stream",
     "text": [
      " 55%|█████▍    | 35/64 [01:39<01:19,  2.75s/it]"
     ]
    },
    {
     "name": "stdout",
     "output_type": "stream",
     "text": [
      "60 cells detected\n"
     ]
    },
    {
     "name": "stderr",
     "output_type": "stream",
     "text": [
      " 56%|█████▋    | 36/64 [01:41<01:13,  2.63s/it]"
     ]
    },
    {
     "name": "stdout",
     "output_type": "stream",
     "text": [
      "53 cells detected\n"
     ]
    },
    {
     "name": "stderr",
     "output_type": "stream",
     "text": [
      " 58%|█████▊    | 37/64 [01:44<01:13,  2.72s/it]"
     ]
    },
    {
     "name": "stdout",
     "output_type": "stream",
     "text": [
      "63 cells detected\n"
     ]
    },
    {
     "name": "stderr",
     "output_type": "stream",
     "text": [
      " 59%|█████▉    | 38/64 [01:46<01:00,  2.33s/it]"
     ]
    },
    {
     "name": "stdout",
     "output_type": "stream",
     "text": [
      "24 cells detected\n"
     ]
    },
    {
     "name": "stderr",
     "output_type": "stream",
     "text": [
      " 61%|██████    | 39/64 [01:47<00:53,  2.12s/it]"
     ]
    },
    {
     "name": "stdout",
     "output_type": "stream",
     "text": [
      "33 cells detected\n"
     ]
    },
    {
     "name": "stderr",
     "output_type": "stream",
     "text": [
      " 62%|██████▎   | 40/64 [01:52<01:12,  3.02s/it]"
     ]
    },
    {
     "name": "stdout",
     "output_type": "stream",
     "text": [
      "120 cells detected\n"
     ]
    },
    {
     "name": "stderr",
     "output_type": "stream",
     "text": [
      " 64%|██████▍   | 41/64 [01:54<01:00,  2.63s/it]"
     ]
    },
    {
     "name": "stdout",
     "output_type": "stream",
     "text": [
      "26 cells detected\n"
     ]
    },
    {
     "name": "stderr",
     "output_type": "stream",
     "text": [
      " 66%|██████▌   | 42/64 [01:55<00:48,  2.22s/it]"
     ]
    },
    {
     "name": "stdout",
     "output_type": "stream",
     "text": [
      "11 cells detected\n"
     ]
    },
    {
     "name": "stderr",
     "output_type": "stream",
     "text": [
      " 67%|██████▋   | 43/64 [01:58<00:46,  2.21s/it]"
     ]
    },
    {
     "name": "stdout",
     "output_type": "stream",
     "text": [
      "43 cells detected\n"
     ]
    },
    {
     "name": "stderr",
     "output_type": "stream",
     "text": [
      " 69%|██████▉   | 44/64 [01:59<00:41,  2.08s/it]"
     ]
    },
    {
     "name": "stdout",
     "output_type": "stream",
     "text": [
      "38 cells detected\n"
     ]
    },
    {
     "name": "stderr",
     "output_type": "stream",
     "text": [
      " 70%|███████   | 45/64 [02:02<00:40,  2.13s/it]"
     ]
    },
    {
     "name": "stdout",
     "output_type": "stream",
     "text": [
      "49 cells detected\n"
     ]
    },
    {
     "name": "stderr",
     "output_type": "stream",
     "text": [
      " 72%|███████▏  | 46/64 [02:04<00:40,  2.23s/it]"
     ]
    },
    {
     "name": "stdout",
     "output_type": "stream",
     "text": [
      "52 cells detected\n"
     ]
    },
    {
     "name": "stderr",
     "output_type": "stream",
     "text": [
      " 73%|███████▎  | 47/64 [02:07<00:39,  2.34s/it]"
     ]
    },
    {
     "name": "stdout",
     "output_type": "stream",
     "text": [
      "60 cells detected\n"
     ]
    },
    {
     "name": "stderr",
     "output_type": "stream",
     "text": [
      " 75%|███████▌  | 48/64 [02:09<00:35,  2.20s/it]"
     ]
    },
    {
     "name": "stdout",
     "output_type": "stream",
     "text": [
      "36 cells detected\n"
     ]
    },
    {
     "name": "stderr",
     "output_type": "stream",
     "text": [
      " 77%|███████▋  | 49/64 [02:10<00:30,  2.04s/it]"
     ]
    },
    {
     "name": "stdout",
     "output_type": "stream",
     "text": [
      "32 cells detected\n"
     ]
    },
    {
     "name": "stderr",
     "output_type": "stream",
     "text": [
      " 78%|███████▊  | 50/64 [02:12<00:28,  2.02s/it]"
     ]
    },
    {
     "name": "stdout",
     "output_type": "stream",
     "text": [
      "41 cells detected\n"
     ]
    },
    {
     "name": "stderr",
     "output_type": "stream",
     "text": [
      " 80%|███████▉  | 51/64 [02:14<00:25,  1.96s/it]"
     ]
    },
    {
     "name": "stdout",
     "output_type": "stream",
     "text": [
      "39 cells detected\n"
     ]
    },
    {
     "name": "stderr",
     "output_type": "stream",
     "text": [
      " 81%|████████▏ | 52/64 [02:16<00:23,  1.98s/it]"
     ]
    },
    {
     "name": "stdout",
     "output_type": "stream",
     "text": [
      "47 cells detected\n"
     ]
    },
    {
     "name": "stderr",
     "output_type": "stream",
     "text": [
      " 83%|████████▎ | 53/64 [02:18<00:22,  2.08s/it]"
     ]
    },
    {
     "name": "stdout",
     "output_type": "stream",
     "text": [
      "55 cells detected\n"
     ]
    },
    {
     "name": "stderr",
     "output_type": "stream",
     "text": [
      " 84%|████████▍ | 54/64 [02:23<00:27,  2.71s/it]"
     ]
    },
    {
     "name": "stdout",
     "output_type": "stream",
     "text": [
      "101 cells detected\n"
     ]
    },
    {
     "name": "stderr",
     "output_type": "stream",
     "text": [
      " 86%|████████▌ | 55/64 [02:27<00:28,  3.15s/it]"
     ]
    },
    {
     "name": "stdout",
     "output_type": "stream",
     "text": [
      "113 cells detected\n"
     ]
    },
    {
     "name": "stderr",
     "output_type": "stream",
     "text": [
      " 88%|████████▊ | 56/64 [02:29<00:22,  2.81s/it]"
     ]
    },
    {
     "name": "stdout",
     "output_type": "stream",
     "text": [
      "54 cells detected\n"
     ]
    },
    {
     "name": "stderr",
     "output_type": "stream",
     "text": [
      " 89%|████████▉ | 57/64 [02:31<00:18,  2.67s/it]"
     ]
    },
    {
     "name": "stdout",
     "output_type": "stream",
     "text": [
      "64 cells detected\n"
     ]
    },
    {
     "name": "stderr",
     "output_type": "stream",
     "text": [
      " 91%|█████████ | 58/64 [02:33<00:14,  2.44s/it]"
     ]
    },
    {
     "name": "stdout",
     "output_type": "stream",
     "text": [
      "53 cells detected\n"
     ]
    },
    {
     "name": "stderr",
     "output_type": "stream",
     "text": [
      " 92%|█████████▏| 59/64 [02:35<00:10,  2.19s/it]"
     ]
    },
    {
     "name": "stdout",
     "output_type": "stream",
     "text": [
      "37 cells detected\n"
     ]
    },
    {
     "name": "stderr",
     "output_type": "stream",
     "text": [
      " 94%|█████████▍| 60/64 [02:36<00:08,  2.05s/it]"
     ]
    },
    {
     "name": "stdout",
     "output_type": "stream",
     "text": [
      "39 cells detected\n"
     ]
    },
    {
     "name": "stderr",
     "output_type": "stream",
     "text": [
      " 95%|█████████▌| 61/64 [02:38<00:06,  2.06s/it]"
     ]
    },
    {
     "name": "stdout",
     "output_type": "stream",
     "text": [
      "52 cells detected\n"
     ]
    },
    {
     "name": "stderr",
     "output_type": "stream",
     "text": [
      " 97%|█████████▋| 62/64 [02:43<00:05,  2.69s/it]"
     ]
    },
    {
     "name": "stdout",
     "output_type": "stream",
     "text": [
      "97 cells detected\n"
     ]
    },
    {
     "name": "stderr",
     "output_type": "stream",
     "text": [
      " 98%|█████████▊| 63/64 [02:47<00:03,  3.07s/it]"
     ]
    },
    {
     "name": "stdout",
     "output_type": "stream",
     "text": [
      "109 cells detected\n"
     ]
    },
    {
     "name": "stderr",
     "output_type": "stream",
     "text": [
      "100%|██████████| 64/64 [02:50<00:00,  2.67s/it]"
     ]
    },
    {
     "name": "stdout",
     "output_type": "stream",
     "text": [
      "95 cells detected\n"
     ]
    },
    {
     "name": "stderr",
     "output_type": "stream",
     "text": [
      "\n"
     ]
    }
   ],
   "source": [
    "from tqdm import tqdm\n",
    "from rna2seg.utils import save_shapes2zarr\n",
    "\n",
    "for i in tqdm(range(len(dataset))):\n",
    "    input_dict = dataset[i]\n",
    "    rna2seg.run(\n",
    "        path_temp_save=folder_patch_rna2seg,\n",
    "        input_dict=input_dict\n",
    "    )"
   ]
  },
  {
   "cell_type": "markdown",
   "id": "f33e78fb-1a71-437d-8947-3a1c1989c0ec",
   "metadata": {},
   "source": [
    "### Add segmented cell in the spatialdata as shape\n",
    "The segmentation of each patch are stored in ```folder_patch_rna2seg``` and can be add in the spataildata as follow : "
   ]
  },
  {
   "cell_type": "code",
   "execution_count": 6,
   "id": "1aff27a2-57ce-40e2-80d3-7cc03d7a7fff",
   "metadata": {},
   "outputs": [
    {
     "name": "stderr",
     "output_type": "stream",
     "text": [
      "100%|██████████| 64/64 [00:00<00:00, 347.80it/s]\n"
     ]
    },
    {
     "name": "stdout",
     "output_type": "stream",
     "text": [
      "len(list_all_cells) 3930\n"
     ]
    },
    {
     "name": "stderr",
     "output_type": "stream",
     "text": [
      "Resolving conflicts: 100%|██████████| 5854/5854 [00:01<00:00, 4499.42it/s]\n"
     ]
    },
    {
     "name": "stdout",
     "output_type": "stream",
     "text": [
      "Added 3011 cell boundaries in sdata['test_rnas2eg']\n"
     ]
    }
   ],
   "source": [
    "segmentation_shape_name = \"test_rnas2eg\"\n",
    "save_shapes2zarr(dataset, segmentation_shape_name)"
   ]
  },
  {
   "cell_type": "markdown",
   "id": "ef41e7d8",
   "metadata": {},
   "source": [
    "## Step 5: Visualize segmentation"
   ]
  },
  {
   "cell_type": "markdown",
   "id": "edc5d838",
   "metadata": {},
   "source": [
    "Now, we visualize the results.\n",
    "The following code extracts and plots three images: RNA transcripts, a selected staining image, and the corresponding segmentation.\n",
    "Ensure that `staining_id` is valid to avoid indexing errors, and check that `bounds` are within dataset limits."
   ]
  },
  {
   "cell_type": "code",
   "execution_count": null,
   "id": "b79888d7-e413-437b-957c-bcb92f75965a",
   "metadata": {},
   "outputs": [],
   "source": [
    "dataset.st_segmentation.sdata"
   ]
  },
  {
   "cell_type": "code",
   "execution_count": null,
   "id": "3479f1ba-0485-46a6-ad8e-17231f9985c8",
   "metadata": {},
   "outputs": [],
   "source": [
    "import matplotlib.pyplot as plt\n",
    "\n",
    "# Parameters\n",
    "key_segmentation=\"test_rnas2eg\"\n",
    "bounds = [2000, 3000, 3000, 4000,] # xmin, ymin, xmax, ymax\n",
    "staining_id = 1 # Staining to plot\n",
    "\n",
    "# Get images\n",
    "rna = dataset.get_rna_img(bounds, key_transcripts=points_key,)\n",
    "image = dataset.get_staining_img(bounds)\n",
    "seg = dataset.get_segmentation_img(bounds, key_cell=key_segmentation)\n",
    "\n",
    "# Plot\n",
    "fig, axes = plt.subplots(1, 3, figsize=(15, 5))\n",
    "axes[0].imshow(rna)\n",
    "axes[0].set_title(\"RNA\")\n",
    "axes[0].axis(\"off\")\n",
    "\n",
    "axes[1].imshow(image[staining_id], cmap=\"grey\")\n",
    "axes[1].set_title(\"Staining\")\n",
    "axes[1].axis(\"off\")\n",
    "\n",
    "axes[2].imshow(seg)\n",
    "axes[2].set_title(\"Segmentation\")\n",
    "axes[2].axis(\"off\")\n",
    "\n",
    "plt.show()"
   ]
  },
  {
   "cell_type": "code",
   "execution_count": null,
   "id": "9f0e0eb7",
   "metadata": {},
   "outputs": [],
   "source": []
  },
  {
   "cell_type": "code",
   "execution_count": null,
   "id": "84b5261b-8147-4def-bc16-a5f6cf7bdcda",
   "metadata": {},
   "outputs": [],
   "source": []
  }
 ],
 "metadata": {
  "kernelspec": {
   "display_name": "Python 3 (ipykernel)",
   "language": "python",
   "name": "python3"
  },
  "language_info": {
   "codemirror_mode": {
    "name": "ipython",
    "version": 3
   },
   "file_extension": ".py",
   "mimetype": "text/x-python",
   "name": "python",
   "nbconvert_exporter": "python",
   "pygments_lexer": "ipython3",
   "version": "3.10.16"
  }
 },
 "nbformat": 4,
 "nbformat_minor": 5
}
